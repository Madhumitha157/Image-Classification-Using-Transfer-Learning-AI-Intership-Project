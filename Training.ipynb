{
  "cells": [
    {
      "cell_type": "code",
      "execution_count": null,
      "metadata": {
        "colab": {
          "base_uri": "https://localhost:8080/"
        },
        "id": "vLafVYSugHK8",
        "outputId": "4e6d086d-9b5f-444c-8c73-08ff9e7d4b4c"
      },
      "outputs": [
        {
          "name": "stdout",
          "output_type": "stream",
          "text": [
            "Collecting bing-image-downloader\n",
            "  Downloading bing_image_downloader-1.1.1-py3-none-any.whl (5.7 kB)\n",
            "Installing collected packages: bing-image-downloader\n",
            "Successfully installed bing-image-downloader-1.1.1\n"
          ]
        }
      ],
      "source": [
        "pip install bing-image-downloader"
      ]
    },
    {
      "cell_type": "code",
      "execution_count": null,
      "metadata": {
        "id": "46PabYwugPs1"
      },
      "outputs": [],
      "source": [
        "!mkdir images"
      ]
    },
    {
      "cell_type": "code",
      "execution_count": null,
      "metadata": {
        "colab": {
          "base_uri": "https://localhost:8080/"
        },
        "id": "2xm6fWaLgSsY",
        "outputId": "f4e67afc-79a5-4e43-e313-9e8c97532079"
      },
      "outputs": [
        {
          "name": "stdout",
          "output_type": "stream",
          "text": [
            "[%] Downloading Images to /content/images/pretty sunflower\n",
            "\n",
            "\n",
            "[!!]Indexing page: 1\n",
            "\n",
            "[%] Indexed 30 Images on Page 1.\n",
            "\n",
            "===============================================\n",
            "\n",
            "[%] Downloading Image #1 from https://i.pinimg.com/originals/0a/02/7a/0a027a31f226b695d0f01baeb13a7410.jpg\n",
            "[%] File Downloaded !\n",
            "\n",
            "[%] Downloading Image #2 from https://i.pinimg.com/originals/69/30/e0/6930e0d5364f2eead9591771a7515665.jpg\n",
            "[%] File Downloaded !\n",
            "\n",
            "[%] Downloading Image #3 from https://i.pinimg.com/originals/f7/0d/11/f70d11647628b048be42a5b0df480a8b.jpg\n",
            "[%] File Downloaded !\n",
            "\n",
            "[%] Downloading Image #4 from https://i.pinimg.com/originals/28/64/0b/28640bb3517270d7670f2ad294ddd6ab.jpg\n",
            "[%] File Downloaded !\n",
            "\n",
            "[%] Downloading Image #5 from https://pixfeeds.com/images/flowers/sunflowers/1280-506587098-beautiful-sunflower.jpg\n",
            "[%] File Downloaded !\n",
            "\n",
            "[%] Downloading Image #6 from https://i.pinimg.com/originals/ae/dc/b4/aedcb4cfe5cc804bd93fa7397285ab69.jpg\n",
            "[%] File Downloaded !\n",
            "\n",
            "[%] Downloading Image #7 from https://i.pinimg.com/originals/80/6f/da/806fdadf1d6f9bbb070afc730d336e65.jpg\n",
            "[%] File Downloaded !\n",
            "\n",
            "[%] Downloading Image #8 from https://i.pinimg.com/originals/75/ad/3f/75ad3f4512a7cfd54b272a2e6ee73c46.jpg\n",
            "[%] File Downloaded !\n",
            "\n",
            "[%] Downloading Image #9 from https://i0.wp.com/howlifestyles.com/wp-content/uploads/2020/06/Sunflowers_20200510.jpg?fit=800%2C1000&amp;ssl=1\n",
            "[%] File Downloaded !\n",
            "\n",
            "[%] Downloading Image #10 from https://i.pinimg.com/originals/99/85/f2/9985f23566590fd95cf65213d07be239.jpg\n",
            "[%] File Downloaded !\n",
            "\n",
            "[%] Downloading Image #11 from https://i.pinimg.com/originals/4f/82/ba/4f82ba183fc51948ad4e5143f31e8e07.jpg\n",
            "[%] File Downloaded !\n",
            "\n",
            "[%] Downloading Image #12 from https://i.pinimg.com/736x/42/cf/c7/42cfc769dc02aced51866694aa9bac9c--sunflowers-sunshine.jpg\n",
            "[%] File Downloaded !\n",
            "\n",
            "[%] Downloading Image #13 from https://i.pinimg.com/originals/a1/93/01/a193013f6ab753fba95c6a664483ae58.jpg\n",
            "[%] File Downloaded !\n",
            "\n",
            "[%] Downloading Image #14 from https://i.pinimg.com/originals/91/39/52/913952e8f81e8faa94481bda88e4dfba.jpg\n",
            "[%] File Downloaded !\n",
            "\n",
            "[%] Downloading Image #15 from https://i.pinimg.com/originals/9f/df/ab/9fdfab0151d16f1ec7b81d5e1b1d93a4.jpg\n",
            "[%] File Downloaded !\n",
            "\n",
            "[%] Downloading Image #16 from https://i.pinimg.com/originals/9d/b2/67/9db26756c3de0663eabd13fcbaba7fa1.jpg\n",
            "[%] File Downloaded !\n",
            "\n",
            "[%] Downloading Image #17 from https://i.pinimg.com/originals/d0/3a/c2/d03ac2d92aa3805d856239945556b155.jpg\n",
            "[%] File Downloaded !\n",
            "\n",
            "[%] Downloading Image #18 from https://i.pinimg.com/originals/e1/6d/e5/e16de54a8578d5c1c1de42cbc614a1e4.jpg\n",
            "[%] File Downloaded !\n",
            "\n",
            "[%] Downloading Image #19 from https://i.pinimg.com/originals/f0/a0/dc/f0a0dc28c43f3347839073cca55eb189.jpg\n",
            "[%] File Downloaded !\n",
            "\n",
            "[%] Downloading Image #20 from https://live.staticflickr.com/3843/15255811285_c76e5e2381_b.jpg\n",
            "[%] File Downloaded !\n",
            "\n",
            "[%] Downloading Image #21 from https://i.pinimg.com/originals/11/a0/de/11a0dec9bbeedc35922edf61191fb1e6.jpg\n",
            "[%] File Downloaded !\n",
            "\n",
            "[%] Downloading Image #22 from https://i.pinimg.com/originals/46/1b/32/461b32b654b404395049c70f0a8b687d.jpg\n",
            "[%] File Downloaded !\n",
            "\n",
            "[%] Downloading Image #23 from https://i.pinimg.com/originals/b0/95/1b/b0951bcdcef67076623995120a9f0e50.jpg\n",
            "[%] File Downloaded !\n",
            "\n",
            "[%] Downloading Image #24 from https://cdn.shopify.com/s/files/1/2461/7623/files/what-is-sunflower-oil.jpg?v=1511997543\n",
            "[%] File Downloaded !\n",
            "\n",
            "[%] Downloading Image #25 from https://i.pinimg.com/originals/9e/3d/89/9e3d8929a4ecf4c7702c2f10e27c97c8.jpg\n",
            "[%] File Downloaded !\n",
            "\n",
            "[%] Downloading Image #26 from https://api.time.com/wp-content/uploads/2016/08/sunflowers.jpg\n",
            "[%] File Downloaded !\n",
            "\n",
            "[%] Downloading Image #27 from https://i.pinimg.com/originals/41/e5/5b/41e55b93113d5463237e938c54093813.jpg\n",
            "[%] File Downloaded !\n",
            "\n",
            "[%] Downloading Image #28 from https://i.pinimg.com/originals/33/26/a3/3326a364da14d443c234ecd1f2109d8a.jpg\n",
            "[%] File Downloaded !\n",
            "\n",
            "[%] Downloading Image #29 from https://www.wargabiz.com.my/wp-content/uploads/2020/02/84334642_1686263441514793_1520870570726388725_n-1024x1024.jpg\n",
            "[%] File Downloaded !\n",
            "\n",
            "[%] Downloading Image #30 from https://i.pinimg.com/736x/84/07/19/84071927dcb8c441b0d8634bfaf86c31--sunflower-fields-sunflowers.jpg\n",
            "[%] File Downloaded !\n",
            "\n",
            "\n",
            "\n",
            "[%] Done. Downloaded 30 images.\n",
            "===============================================\n",
            "\n",
            "Please show your support here\n",
            "https://www.buymeacoffee.com/gurugaurav\n",
            "\n",
            "===============================================\n",
            "\n"
          ]
        }
      ],
      "source": [
        "from bing_image_downloader import downloader\n",
        "downloader.download(\"pretty sunflower\",limit=30,output_dir=\"images\", adult_filter_off=True)"
      ]
    },
    {
      "cell_type": "code",
      "execution_count": null,
      "metadata": {
        "colab": {
          "base_uri": "https://localhost:8080/"
        },
        "id": "tCOEarzOgWtY",
        "outputId": "ade415bb-3e06-40d1-dba0-cb141c22c4b6"
      },
      "outputs": [
        {
          "name": "stdout",
          "output_type": "stream",
          "text": [
            "[%] Downloading Images to /content/images/cats\n",
            "\n",
            "\n",
            "[!!]Indexing page: 1\n",
            "\n",
            "[%] Indexed 30 Images on Page 1.\n",
            "\n",
            "===============================================\n",
            "\n",
            "[%] Downloading Image #1 from https://i.pinimg.com/originals/38/26/b2/3826b2d7b48aa9a7dfeed6d90c26fafe.jpg\n",
            "[%] File Downloaded !\n",
            "\n",
            "[%] Downloading Image #2 from https://i.pinimg.com/736x/de/9e/06/de9e066de5c7b82f98a6a349980ecd49.jpg\n",
            "[%] File Downloaded !\n",
            "\n",
            "[%] Downloading Image #3 from https://i.pinimg.com/originals/12/c8/4f/12c84fafbc0853a92326a312e0754452.jpg\n",
            "[%] File Downloaded !\n",
            "\n",
            "[%] Downloading Image #4 from https://i.pinimg.com/originals/94/09/ef/9409efca818ee2ff7e6839af1b08e2e1.jpg\n",
            "[%] File Downloaded !\n",
            "\n",
            "[%] Downloading Image #5 from https://i.redd.it/m5t154yptg741.jpg\n",
            "[%] File Downloaded !\n",
            "\n",
            "[%] Downloading Image #6 from https://i.pinimg.com/originals/2c/9f/49/2c9f495c465ad38a539d563bcb1f2ecb.jpg\n",
            "[%] File Downloaded !\n",
            "\n",
            "[%] Downloading Image #7 from https://miaustore.com/uk/wp-content/uploads/sites/3/2018/04/sad-cat.jpg\n",
            "[%] File Downloaded !\n",
            "\n",
            "[%] Downloading Image #8 from https://i.pinimg.com/originals/1b/20/9f/1b209fe6d75972115d4f629e16e4149d.jpg\n",
            "[%] File Downloaded !\n",
            "\n",
            "[%] Downloading Image #9 from https://i.pinimg.com/originals/db/58/c6/db58c6eb3e8839f720ffef1b2d969f8e.png\n",
            "[%] File Downloaded !\n",
            "\n",
            "[%] Downloading Image #10 from https://img.huffingtonpost.com/asset/55f984431c00002d007571ec.jpeg?cache=fs3ijix0oy&amp;ops=1910_1000\n",
            "[Error]Invalid image, not saving https://img.huffingtonpost.com/asset/55f984431c00002d007571ec.jpeg?cache=fs3ijix0oy&amp;ops=1910_1000\n",
            "\n",
            "[!] Issue getting: https://img.huffingtonpost.com/asset/55f984431c00002d007571ec.jpeg?cache=fs3ijix0oy&amp;ops=1910_1000\n",
            "[!] Error:: Invalid image, not saving https://img.huffingtonpost.com/asset/55f984431c00002d007571ec.jpeg?cache=fs3ijix0oy&amp;ops=1910_1000\n",
            "\n",
            "[%] Downloading Image #10 from https://i.pinimg.com/originals/59/15/73/591573940c30c369bcacae82332c35b8.jpg\n",
            "[%] File Downloaded !\n",
            "\n",
            "[%] Downloading Image #11 from https://i.pinimg.com/originals/a8/c4/3b/a8c43b42539f524fb3c112841914473d.jpg\n",
            "[%] File Downloaded !\n",
            "\n",
            "[%] Downloading Image #12 from https://i.pinimg.com/originals/ae/2c/7f/ae2c7fbdf401ded3e31930a37d544408.jpg\n",
            "[%] File Downloaded !\n",
            "\n",
            "[%] Downloading Image #13 from https://4.bp.blogspot.com/-NaQi3tthgFU/UVcYATei2bI/AAAAAAAAQyo/ukI_G46_cbY/s1600/007+(2).JPG\n",
            "[%] File Downloaded !\n",
            "\n",
            "[%] Downloading Image #14 from https://www.landofcats.net/images/2016/07/Tiffanys-cat-story-Land-of-Cats.jpg\n",
            "[%] File Downloaded !\n",
            "\n",
            "[%] Downloading Image #15 from https://i.pinimg.com/originals/27/a1/fc/27a1fc43537ed731a659fb4158652e33.jpg\n",
            "[%] File Downloaded !\n",
            "\n",
            "[%] Downloading Image #16 from https://i.pinimg.com/originals/1f/ee/ab/1feeabc1f27ae4f83543525299741956.jpg\n",
            "[%] File Downloaded !\n",
            "\n",
            "[%] Downloading Image #17 from https://www.missmalini.com/wp-content/uploads/2019/04/shutterstock_794782192.jpeg\n",
            "[%] File Downloaded !\n",
            "\n",
            "[%] Downloading Image #18 from https://blog.wholesomeculture.com/wp-content/uploads/2019/10/adorable-animal-animal-lover-1123999.jpg\n",
            "[%] File Downloaded !\n",
            "\n",
            "[%] Downloading Image #19 from https://usercontent2.hubstatic.com/4876441_f1024.jpg\n",
            "[%] File Downloaded !\n",
            "\n",
            "[%] Downloading Image #20 from https://blog.wholesomeculture.com/wp-content/uploads/2019/10/kevin-ianeselli-f4Rqde3qULw-unsplash-768x1024.jpg\n",
            "[%] File Downloaded !\n",
            "\n",
            "[%] Downloading Image #21 from https://i.pinimg.com/originals/35/bf/dc/35bfdc73b4987e9be6a07cd4bc215a61.jpg\n",
            "[%] File Downloaded !\n",
            "\n",
            "[%] Downloading Image #22 from https://vivacatcat.com/wp-content/uploads/2020/05/Happy-Mother’s-Day-7-True-Stories-Of-Amazing-Mama-Cats-Who-Saved-Their-Babies.jpg\n",
            "[!] Issue getting: https://vivacatcat.com/wp-content/uploads/2020/05/Happy-Mother’s-Day-7-True-Stories-Of-Amazing-Mama-Cats-Who-Saved-Their-Babies.jpg\n",
            "[!] Error:: 'ascii' codec can't encode character '\\u2019' in position 44: ordinal not in range(128)\n",
            "[%] Downloading Image #22 from https://i1.wp.com/eurweb.com/wp-content/uploads/2015/01/cats_generic.jpg?resize=1000%2C600&amp;ssl=1\n",
            "[%] File Downloaded !\n",
            "\n",
            "[%] Downloading Image #23 from https://i.pinimg.com/originals/df/d8/a1/dfd8a1de773a434eae19b082ee0b609a.jpg\n",
            "[%] File Downloaded !\n",
            "\n",
            "[%] Downloading Image #24 from http://4.bp.blogspot.com/-p-jYv27m13A/UWrB6d-If3I/AAAAAAAARB8/MhVxHRfT_EY/s1600/016+(2).JPG\n",
            "[%] File Downloaded !\n",
            "\n",
            "[%] Downloading Image #25 from http://s3.amazonaws.com/assets.prod.vetstreet.com/11/20/fccd10e14553ad5f8a703c0992a0/cat-sleeping-thinkstock-476985623-645sm32814.jpg\n",
            "[%] File Downloaded !\n",
            "\n",
            "[%] Downloading Image #26 from https://yt3.ggpht.com/a/AATXAJymPcyf052Nr2Q5TeFy9JJGqdv_zcUBilZDtQ=s900-c-k-c0xffffffff-no-rj-mo\n",
            "[%] File Downloaded !\n",
            "\n",
            "[%] Downloading Image #27 from https://i.pinimg.com/originals/2c/7a/5c/2c7a5cd99900dfbbe84b0ee8c8fe5a2d.jpg\n",
            "[%] File Downloaded !\n",
            "\n",
            "[%] Downloading Image #28 from https://itsalovelylife.com/wp-content/uploads/2015/05/cat-photos-1400x700.jpg\n",
            "[%] File Downloaded !\n",
            "\n",
            "\n",
            "\n",
            "[!!]Indexing page: 2\n",
            "\n",
            "[%] Indexed 35 Images on Page 2.\n",
            "\n",
            "===============================================\n",
            "\n",
            "[%] Downloading Image #29 from https://i.pinimg.com/originals/f2/9d/ca/f29dcaffb79aee72e5bd37b9d22fd48b.jpg\n",
            "[%] File Downloaded !\n",
            "\n",
            "[%] Downloading Image #30 from http://4.bp.blogspot.com/-p-jYv27m13A/UWrB6d-If3I/AAAAAAAARB8/MhVxHRfT_EY/s1600/016+(2).JPG\n",
            "[%] File Downloaded !\n",
            "\n",
            "\n",
            "\n",
            "[%] Done. Downloaded 30 images.\n",
            "===============================================\n",
            "\n",
            "Please show your support here\n",
            "https://www.buymeacoffee.com/gurugaurav\n",
            "\n",
            "===============================================\n",
            "\n"
          ]
        }
      ],
      "source": [
        "from bing_image_downloader import downloader\n",
        "downloader.download(\"cats\",limit=30,output_dir=\"images\", adult_filter_off=True)"
      ]
    },
    {
      "cell_type": "code",
      "execution_count": null,
      "metadata": {
        "colab": {
          "base_uri": "https://localhost:8080/"
        },
        "id": "yn1K6P_6gh6g",
        "outputId": "20954a9c-a3ab-49ff-d066-36f21fb086d7"
      },
      "outputs": [
        {
          "name": "stdout",
          "output_type": "stream",
          "text": [
            "[%] Downloading Images to /content/images/roses\n",
            "\n",
            "\n",
            "[!!]Indexing page: 1\n",
            "\n",
            "[%] Indexed 20 Images on Page 1.\n",
            "\n",
            "===============================================\n",
            "\n",
            "[%] Downloading Image #1 from https://res.cloudinary.com/bloomnation/c_pad,d_vendor:global:catalog:product:image.png,f_auto,fl_preserve_transparency,q_auto/v1582065462/vendor/2961/catalog/product/2/0/20150124123713_file_54c391f9051a6.jpg\n",
            "[%] File Downloaded !\n",
            "\n",
            "[%] Downloading Image #2 from https://arrayofgifts.com/wp-content/uploads/2018/11/True-Love-Light-Pink-Hot-Pink-Roses-Houston-Pearland-Tx-Florist-Valentine-Flowers-Delivery.jpg\n",
            "[%] File Downloaded !\n",
            "\n",
            "[%] Downloading Image #3 from http://www.natureserve.org/sites/default/files/kelly_marcum_flickr_pricklyrose.jpg\n",
            "[%] File Downloaded !\n",
            "\n",
            "[%] Downloading Image #4 from https://i.pinimg.com/originals/08/f2/39/08f2395d70c98ad387783922776c87b1.jpg\n",
            "[%] File Downloaded !\n",
            "\n",
            "[%] Downloading Image #5 from https://asset.bloomnation.com/c_pad,d_vendor:global:catalog:product:image.png,f_auto,fl_preserve_transparency,q_auto/v1612568092/vendor/4799/catalog/product/m/y/my_true_love_bouquet_with_long_stemmed_roses_18_1_2_1_34_1_10.jpg\n",
            "[%] File Downloaded !\n",
            "\n",
            "[%] Downloading Image #6 from https://i.pinimg.com/1200x/f8/0e/62/f80e625bd512160e415714c9d1ec58c2.jpg\n",
            "[%] File Downloaded !\n",
            "\n",
            "[%] Downloading Image #7 from https://i.pinimg.com/originals/44/d4/7b/44d47b7718b70d1696b6c886a3e1045e.jpg\n",
            "[%] File Downloaded !\n",
            "\n",
            "[%] Downloading Image #8 from https://i.pinimg.com/originals/00/78/82/0078826a62d25600c8f3608f68973c6e.jpg\n",
            "[%] File Downloaded !\n",
            "\n",
            "[%] Downloading Image #9 from https://i.pinimg.com/originals/35/fe/ed/35feed534a62d8ca6546523e0dc8c5a4.jpg\n",
            "[%] File Downloaded !\n",
            "\n",
            "[%] Downloading Image #10 from https://arrayofgifts.com/wp-content/uploads/2018/11/True-Love-Hot-Pink-Roses-Houston-Tx-Florist-Valentine-Flowers-Delivery-scaled.jpg\n",
            "[Error]Invalid image, not saving https://arrayofgifts.com/wp-content/uploads/2018/11/True-Love-Hot-Pink-Roses-Houston-Tx-Florist-Valentine-Flowers-Delivery-scaled.jpg\n",
            "\n",
            "[!] Issue getting: https://arrayofgifts.com/wp-content/uploads/2018/11/True-Love-Hot-Pink-Roses-Houston-Tx-Florist-Valentine-Flowers-Delivery-scaled.jpg\n",
            "[!] Error:: Invalid image, not saving https://arrayofgifts.com/wp-content/uploads/2018/11/True-Love-Hot-Pink-Roses-Houston-Tx-Florist-Valentine-Flowers-Delivery-scaled.jpg\n",
            "\n",
            "[%] Downloading Image #10 from https://res.cloudinary.com/bloomnation/c_pad,d_vendor:global:catalog:product:image.png,f_auto,fl_preserve_transparency,q_auto/v1550984932/vendor/3939/catalog/product/2/0/20190128072704_file_5c4f5788c8a34.jpg\n",
            "[%] File Downloaded !\n",
            "\n",
            "[%] Downloading Image #11 from https://www.clareflorist.co.uk/images/product/true-romance-new-lifestyle-2.jpg\n",
            "[%] File Downloaded !\n",
            "\n",
            "[%] Downloading Image #12 from https://altmanplants.com/wp-content/uploads/True-Gratitude-1.jpg\n",
            "[%] File Downloaded !\n",
            "\n",
            "[%] Downloading Image #13 from https://res.cloudinary.com/bloomnation/c_pad,d_vendor:global:catalog:product:image.png,f_auto,fl_preserve_transparency,q_auto/v1579502899/vendor/1519/catalog/product/2/0/20180128065459_file_5a6d73c35f1f2.jpg\n",
            "[%] File Downloaded !\n",
            "\n",
            "[%] Downloading Image #14 from https://i.pinimg.com/originals/29/e6/26/29e6266eefee5ce0a905b7384d6e9c8b.jpg\n",
            "[%] File Downloaded !\n",
            "\n",
            "[%] Downloading Image #15 from https://www.clareflorist.co.uk/images/product/true-romance-1lg.jpg\n",
            "[%] File Downloaded !\n",
            "\n",
            "[%] Downloading Image #16 from https://i.pinimg.com/originals/35/4a/ed/354aed9e9a761e2115f7597672b3cad2.jpg\n",
            "[%] File Downloaded !\n",
            "\n",
            "[%] Downloading Image #17 from https://usercontent2.hubstatic.com/13684763_f1024.jpg\n",
            "[%] File Downloaded !\n",
            "\n",
            "[%] Downloading Image #18 from https://carithers.imgix.net/images/item/TrueRomanceRoseswithbackground-18103032009.png?w=950&amp;auto=format\n",
            "[%] File Downloaded !\n",
            "\n",
            "[%] Downloading Image #19 from https://altmanplants.com/wp-content/uploads/True-Inspiration.jpg\n",
            "[%] File Downloaded !\n",
            "\n",
            "\n",
            "\n",
            "[!!]Indexing page: 2\n",
            "\n",
            "[%] Indexed 35 Images on Page 2.\n",
            "\n",
            "===============================================\n",
            "\n",
            "[%] Downloading Image #20 from https://res.cloudinary.com/bloomnation/c_pad,d_vendor:global:catalog:product:image.png,f_auto,fl_preserve_transparency,q_auto/v1582065462/vendor/2961/catalog/product/2/0/20150124123713_file_54c391f9051a6.jpg\n",
            "[%] File Downloaded !\n",
            "\n",
            "\n",
            "\n",
            "[%] Done. Downloaded 20 images.\n",
            "===============================================\n",
            "\n",
            "Please show your support here\n",
            "https://www.buymeacoffee.com/gurugaurav\n",
            "\n",
            "===============================================\n",
            "\n"
          ]
        }
      ],
      "source": [
        "from bing_image_downloader import downloader\n",
        "downloader.download(\"roses\",limit=20,output_dir=\"images\", adult_filter_off=True)"
      ]
    },
    {
      "cell_type": "code",
      "execution_count": null,
      "metadata": {
        "colab": {
          "base_uri": "https://localhost:8080/"
        },
        "id": "tvh1bzUNgoSh",
        "outputId": "aae3d40b-70f6-45cc-e1de-96793cc9f81e"
      },
      "outputs": [
        {
          "name": "stdout",
          "output_type": "stream",
          "text": [
            "[%] Downloading Images to /content/images/dogs\n",
            "\n",
            "\n",
            "[!!]Indexing page: 1\n",
            "\n",
            "[%] Indexed 30 Images on Page 1.\n",
            "\n",
            "===============================================\n",
            "\n",
            "[%] Downloading Image #1 from https://i.pinimg.com/originals/b0/41/49/b04149fefec7545b6ad2045e8e7aa687.jpg\n",
            "[%] File Downloaded !\n",
            "\n",
            "[%] Downloading Image #2 from http://englishrussia.com/wp-content/uploads/2015/04/318.jpg\n",
            "[%] File Downloaded !\n",
            "\n",
            "[%] Downloading Image #3 from http://englishrussia.com/wp-content/uploads/2015/04/622.jpg\n",
            "[%] File Downloaded !\n",
            "\n",
            "[%] Downloading Image #4 from http://englishrussia.com/wp-content/uploads/2015/04/516.jpg\n",
            "[%] File Downloaded !\n",
            "\n",
            "[%] Downloading Image #5 from https://www.summeridgeanimalclinic.com/blog/wp-content/uploads/2017/10/Summeridge_iStock-90309437.jpg\n",
            "[Error]Invalid image, not saving https://www.summeridgeanimalclinic.com/blog/wp-content/uploads/2017/10/Summeridge_iStock-90309437.jpg\n",
            "\n",
            "[!] Issue getting: https://www.summeridgeanimalclinic.com/blog/wp-content/uploads/2017/10/Summeridge_iStock-90309437.jpg\n",
            "[!] Error:: Invalid image, not saving https://www.summeridgeanimalclinic.com/blog/wp-content/uploads/2017/10/Summeridge_iStock-90309437.jpg\n",
            "\n",
            "[%] Downloading Image #5 from https://images-na.ssl-images-amazon.com/images/I/51%2BwRHeWwVL._SY346_.jpg\n",
            "[%] File Downloaded !\n",
            "\n",
            "[%] Downloading Image #6 from https://englishrussia.com/wp-content/uploads/2015/04/542.jpg\n",
            "[%] File Downloaded !\n",
            "\n",
            "[%] Downloading Image #7 from https://englishrussia.com/wp-content/uploads/2015/04/571.jpg\n",
            "[%] File Downloaded !\n",
            "\n",
            "[%] Downloading Image #8 from http://englishrussia.com/wp-content/uploads/2015/04/333.jpg\n",
            "[%] File Downloaded !\n",
            "\n",
            "[%] Downloading Image #9 from http://englishrussia.com/wp-content/uploads/2015/04/234.jpg\n",
            "[%] File Downloaded !\n",
            "\n",
            "[%] Downloading Image #10 from https://i.pinimg.com/736x/47/c7/63/47c7632aa28132d90e150805df317cf8--true-beauty-dog-lovers.jpg\n",
            "[%] File Downloaded !\n",
            "\n",
            "[%] Downloading Image #11 from http://englishrussia.com/wp-content/uploads/2015/04/244.jpg\n",
            "[%] File Downloaded !\n",
            "\n",
            "[%] Downloading Image #12 from http://englishrussia.com/wp-content/uploads/2015/04/522.jpg\n",
            "[%] File Downloaded !\n",
            "\n",
            "[%] Downloading Image #13 from http://img3.grunge.com/img/gallery/false-facts-about-dogs-you-always-thought-were-true/we-basically-know-how-and-where-dogs-were-domesticated.jpg\n",
            "[%] File Downloaded !\n",
            "\n",
            "[%] Downloading Image #14 from http://englishrussia.com/wp-content/uploads/2015/04/185.jpg\n",
            "[%] File Downloaded !\n",
            "\n",
            "[%] Downloading Image #15 from http://englishrussia.com/wp-content/uploads/2015/04/481.jpg\n",
            "[%] File Downloaded !\n",
            "\n",
            "[%] Downloading Image #16 from https://i1.wp.com/www.allaboutdogs.net/wp-content/uploads/2016/09/Is-it-true-that-dogs-can-smell-fear.jpg?fit=1024%2C685&amp;ssl=1\n",
            "[%] File Downloaded !\n",
            "\n",
            "[%] Downloading Image #17 from http://englishrussia.com/wp-content/uploads/2015/04/416.jpg\n",
            "[%] File Downloaded !\n",
            "\n",
            "[%] Downloading Image #18 from https://i.pinimg.com/originals/ef/14/32/ef1432cf6e4e96b0aa5dbb2662db797e.jpg\n",
            "[%] File Downloaded !\n",
            "\n",
            "[%] Downloading Image #19 from http://englishrussia.com/wp-content/uploads/2015/04/532.jpg\n",
            "[%] File Downloaded !\n",
            "\n",
            "[%] Downloading Image #20 from https://i.pinimg.com/originals/d2/91/e3/d291e3573698071c89f5ebc60864e136.jpg\n",
            "[%] File Downloaded !\n",
            "\n",
            "[%] Downloading Image #21 from http://www.shedoesthecity.com/wp-content/uploads/files/2013/05/marshall-1.jpg\n",
            "[%] File Downloaded !\n",
            "\n",
            "[%] Downloading Image #22 from https://englishrussia.com/wp-content/uploads/2015/04/515.jpg\n",
            "[%] File Downloaded !\n",
            "\n",
            "[%] Downloading Image #23 from https://i.pinimg.com/originals/f6/ed/93/f6ed93428da9a0fde9154dce09485727.jpg\n",
            "[%] File Downloaded !\n",
            "\n",
            "[%] Downloading Image #24 from https://i.pinimg.com/originals/18/1e/e1/181ee14af70b4cab60721459a271472b.jpg\n",
            "[%] File Downloaded !\n",
            "\n",
            "[%] Downloading Image #25 from https://trueworkingdogs.com/wp-content/uploads/20180422_151229.jpg\n",
            "[%] File Downloaded !\n",
            "\n",
            "[%] Downloading Image #26 from https://img3.grunge.com/img/gallery/false-facts-about-dogs-you-always-thought-were-true/some-dogs-have-locking-jaws-and-off-the-charts-bite-pressure.jpg\n",
            "[%] File Downloaded !\n",
            "\n",
            "[%] Downloading Image #27 from https://petrage.net/wp-content/uploads/2020/02/fbkboxers.jpg\n",
            "[%] File Downloaded !\n",
            "\n",
            "[%] Downloading Image #28 from https://trueworkingdogs.com/wp-content/uploads/20180422_152216.jpg\n",
            "[%] File Downloaded !\n",
            "\n",
            "[%] Downloading Image #29 from http://img3.grunge.com/img/gallery/false-facts-about-dogs-you-always-thought-were-true/one-human-years-equals-seven-dog-years.jpg\n",
            "[%] File Downloaded !\n",
            "\n",
            "\n",
            "\n",
            "[!!]Indexing page: 2\n",
            "\n",
            "[%] Indexed 35 Images on Page 2.\n",
            "\n",
            "===============================================\n",
            "\n",
            "[%] Downloading Image #30 from https://i.pinimg.com/originals/b0/41/49/b04149fefec7545b6ad2045e8e7aa687.jpg\n",
            "[%] File Downloaded !\n",
            "\n",
            "\n",
            "\n",
            "[%] Done. Downloaded 30 images.\n",
            "===============================================\n",
            "\n",
            "Please show your support here\n",
            "https://www.buymeacoffee.com/gurugaurav\n",
            "\n",
            "===============================================\n",
            "\n"
          ]
        }
      ],
      "source": [
        "from bing_image_downloader import downloader\n",
        "downloader.download(\"dogs\",limit=30,output_dir=\"images\", adult_filter_off=True)"
      ]
    },
    {
      "cell_type": "code",
      "execution_count": null,
      "metadata": {
        "colab": {
          "base_uri": "https://localhost:8080/"
        },
        "id": "1tPk-4cGgsXQ",
        "outputId": "8a6da510-bc5f-4aba-ddfa-bf05ade0c9c7"
      },
      "outputs": [
        {
          "name": "stdout",
          "output_type": "stream",
          "text": [
            "[%] Downloading Images to /content/images/lotus\n",
            "\n",
            "\n",
            "[!!]Indexing page: 1\n",
            "\n",
            "[%] Indexed 30 Images on Page 1.\n",
            "\n",
            "===============================================\n",
            "\n",
            "[%] Downloading Image #1 from https://kcp-wpengine.netdna-ssl.com/wp-content/uploads/2014/03/lotus2.jpg\n",
            "[%] File Downloaded !\n",
            "\n",
            "[%] Downloading Image #2 from https://3.bp.blogspot.com/-3edIMDAj__c/Wt311cyhz5I/AAAAAAAABIw/fkQwa8hU6FQFk0ZhYHNl-OlCk-Qpcnv-gCLcBGAs/s1600/20180125_143431.jpg\n",
            "[%] File Downloaded !\n",
            "\n",
            "[%] Downloading Image #3 from https://www.plantsguru.com/image/cache/data/Flowering Plants/Lillies/plants-guru-lily-and-bulbous-plants-lotus-pink-800x800.jpg\n",
            "[!] Issue getting: https://www.plantsguru.com/image/cache/data/Flowering Plants/Lillies/plants-guru-lily-and-bulbous-plants-lotus-pink-800x800.jpg\n",
            "[!] Error:: URL can't contain control characters. '/image/cache/data/Flowering Plants/Lillies/plants-guru-lily-and-bulbous-plants-lotus-pink-800x800.jpg' (found at least ' ')\n",
            "[%] Downloading Image #3 from https://img.webnovel.com/bookcover/13409145306771005/600/600.jpg?coverUpdateTime=1554133247954&amp;imageMogr2/quality/40\n",
            "[%] File Downloaded !\n",
            "\n",
            "[%] Downloading Image #4 from https://thumbs.dreamstime.com/b/pink-lotus-flower-supreme-lotus-considered-to-be-true-lotus-buddha-pink-lotus-flower-supreme-167098041.jpg\n",
            "[%] File Downloaded !\n",
            "\n",
            "[%] Downloading Image #5 from https://i.pinimg.com/originals/9d/38/f0/9d38f0d6f6e46f9af9c11c39a4d2c17e.jpg\n",
            "[%] File Downloaded !\n",
            "\n",
            "[%] Downloading Image #6 from https://static.wixstatic.com/media/f1d8fa_6595fc3e284446c98ba691f91cbfb2b6~mv2.jpg/v1/fit/w_1000,h_767,al_c,q_80/file.png\n",
            "[%] File Downloaded !\n",
            "\n",
            "[%] Downloading Image #7 from https://i.pinimg.com/originals/94/bb/7f/94bb7f339644a6b9928ad805e99a3677.jpg\n",
            "[%] File Downloaded !\n",
            "\n",
            "[%] Downloading Image #8 from https://www.kcpinternational.com/wp-content/uploads/2014/04/Lotus-Flower.jpg\n",
            "[Error]Invalid image, not saving https://www.kcpinternational.com/wp-content/uploads/2014/04/Lotus-Flower.jpg\n",
            "\n",
            "[!] Issue getting: https://www.kcpinternational.com/wp-content/uploads/2014/04/Lotus-Flower.jpg\n",
            "[!] Error:: Invalid image, not saving https://www.kcpinternational.com/wp-content/uploads/2014/04/Lotus-Flower.jpg\n",
            "\n",
            "[%] Downloading Image #8 from https://www.vivasanint.com/product/image/large/z 367_экстракт_цветков_лотоса.jpg\n",
            "[!] Issue getting: https://www.vivasanint.com/product/image/large/z 367_экстракт_цветков_лотоса.jpg\n",
            "[!] Error:: URL can't contain control characters. '/product/image/large/z 367_экстракт_цветков_лотоса.jpg' (found at least ' ')\n",
            "[%] Downloading Image #8 from https://sunlandwatergardens.com/wp-content/uploads/2013/05/RedLotusLotus-for-your-pond.jpg\n",
            "[%] File Downloaded !\n",
            "\n",
            "[%] Downloading Image #9 from https://mulkernlandscaping.com/wp-content/uploads/2014/09/IMG_41051.jpg\n",
            "[%] File Downloaded !\n",
            "\n",
            "[%] Downloading Image #10 from http://mastermindcontent.co.uk/wp-content/uploads/2016/01/purplelotusflower-1024x768.jpg\n",
            "[%] File Downloaded !\n",
            "\n",
            "[%] Downloading Image #11 from https://dropping-seeds.com/wp-content/uploads/2019/10/can-you-smoke-BLUE-LOTUS-herbal-smoke-blend-smokable-tea.jpg\n",
            "[%] File Downloaded !\n",
            "\n",
            "[%] Downloading Image #12 from https://www.plantsguru.com/image/cache/data/Flowering Plants/Lillies/plants-guru-lily-and-bulbous-plants-lotus-white-600x600.jpg\n",
            "[!] Issue getting: https://www.plantsguru.com/image/cache/data/Flowering Plants/Lillies/plants-guru-lily-and-bulbous-plants-lotus-white-600x600.jpg\n",
            "[!] Error:: URL can't contain control characters. '/image/cache/data/Flowering Plants/Lillies/plants-guru-lily-and-bulbous-plants-lotus-white-600x600.jpg' (found at least ' ')\n",
            "[%] Downloading Image #12 from http://il6.picdn.net/shutterstock/videos/3829064/thumb/1.jpg\n",
            "[%] File Downloaded !\n",
            "\n",
            "[%] Downloading Image #13 from https://thumbs.dreamstime.com/z/pink-lotus-flower-supreme-considered-to-be-true-buddha-167098076.jpg\n",
            "[%] File Downloaded !\n",
            "\n",
            "[%] Downloading Image #14 from https://media.hagerty.com/media/wp-content/uploads/2021/01/Yellow_Exige_430_Cup_040-scaled.jpg\n",
            "[%] File Downloaded !\n",
            "\n",
            "[%] Downloading Image #15 from https://thumbs.dreamstime.com/b/pink-lotus-flower-supreme-lotus-considered-to-be-true-lotus-buddha-pink-lotus-flower-supreme-167098073.jpg\n",
            "[%] File Downloaded !\n",
            "\n",
            "[%] Downloading Image #16 from https://everydaypower.com/wp-content/uploads/2021/01/45-Lotus-Flower-Quotes-About-the-Beautiful-and-Symbolic-Flower.jpg\n",
            "[%] File Downloaded !\n",
            "\n",
            "[%] Downloading Image #17 from https://1.bp.blogspot.com/-ZYzpTy__pxw/VSdq-5qTsyI/AAAAAAAAGY8/DyXf5XnIoeU/s1600/016.JPG\n",
            "[%] File Downloaded !\n",
            "\n",
            "[%] Downloading Image #18 from http://2.bp.blogspot.com/_3E6E-pGjhLw/TR4o16IlzdI/AAAAAAAAA2E/eUnQRuBl_q0/s1600/white-lotus-flower.jpg\n",
            "[%] File Downloaded !\n",
            "\n",
            "[%] Downloading Image #19 from https://trueharvestseeds.org/wp-content/uploads/2021/01/Lotus-corniculatus-600x600-1.jpg\n",
            "[%] File Downloaded !\n",
            "\n",
            "[%] Downloading Image #20 from https://thumbs.dreamstime.com/z/pink-lotus-flower-supreme-lotus-considered-to-be-true-lotus-buddha-pink-lotus-flower-supreme-167098359.jpg\n",
            "[%] File Downloaded !\n",
            "\n",
            "[%] Downloading Image #21 from https://i.pinimg.com/originals/59/02/6c/59026cc1ec05e0c6238cc2e11343fa89.jpg\n",
            "[%] File Downloaded !\n",
            "\n",
            "[%] Downloading Image #22 from https://thumbs.dreamstime.com/z/pink-lotus-flower-supreme-lotus-considered-to-be-true-lotus-buddha-pink-lotus-flower-supreme-167098066.jpg\n",
            "[%] File Downloaded !\n",
            "\n",
            "[%] Downloading Image #23 from http://tried-and-true.com/wp-content/uploads/2010/12/IMG_1074-Web.jpg\n",
            "[%] File Downloaded !\n",
            "\n",
            "[%] Downloading Image #24 from https://thumbs.dreamstime.com/z/pink-lotus-flower-supreme-lotus-considered-to-be-true-lotus-buddha-pink-lotus-flower-supreme-167098047.jpg\n",
            "[%] File Downloaded !\n",
            "\n",
            "[%] Downloading Image #25 from https://thumbs.dreamstime.com/b/pink-lotus-flower-supreme-lotus-considered-to-be-true-lotus-buddha-pink-lotus-flower-supreme-167098140.jpg\n",
            "[%] File Downloaded !\n",
            "\n",
            "[%] Downloading Image #26 from https://media.torque.com.sg/public/2018/03/Lotus-Elise-show-car-1995-b.jpg\n",
            "[%] File Downloaded !\n",
            "\n",
            "\n",
            "\n",
            "[!!]Indexing page: 2\n",
            "\n",
            "[%] Indexed 35 Images on Page 2.\n",
            "\n",
            "===============================================\n",
            "\n",
            "[%] Downloading Image #27 from https://dropping-seeds.com/wp-content/uploads/2019/10/can-you-smoke-BLUE-LOTUS-herbal-smoke-blend-smokable-tea.jpg\n",
            "[%] File Downloaded !\n",
            "\n",
            "[%] Downloading Image #28 from https://trueharvestseeds.org/wp-content/uploads/2021/01/Lotus-corniculatus-600x600-1.jpg\n",
            "[%] File Downloaded !\n",
            "\n",
            "[%] Downloading Image #29 from https://mulkernlandscaping.com/wp-content/uploads/2014/09/IMG_41051.jpg\n",
            "[%] File Downloaded !\n",
            "\n",
            "[%] Downloading Image #30 from https://i1.wp.com/corkscrewd.blog/wp-content/uploads/2019/07/lotus-1-7.jpg?fit=1500%2C1000&amp;ssl=1\n",
            "[%] File Downloaded !\n",
            "\n",
            "\n",
            "\n",
            "[%] Done. Downloaded 30 images.\n",
            "===============================================\n",
            "\n",
            "Please show your support here\n",
            "https://www.buymeacoffee.com/gurugaurav\n",
            "\n",
            "===============================================\n",
            "\n"
          ]
        }
      ],
      "source": [
        "from bing_image_downloader import downloader\n",
        "downloader.download(\"lotus\",limit=30,output_dir=\"images\", adult_filter_off=True)"
      ]
    },
    {
      "cell_type": "code",
      "execution_count": null,
      "metadata": {
        "colab": {
          "base_uri": "https://localhost:8080/"
        },
        "id": "hkSt0ATwgvTA",
        "outputId": "6f2c082e-1ce6-4f57-bde4-c02526c4f43e"
      },
      "outputs": [
        {
          "name": "stdout",
          "output_type": "stream",
          "text": [
            "[%] Downloading Images to /content/images/tiger\n",
            "\n",
            "\n",
            "[!!]Indexing page: 1\n",
            "\n",
            "[%] Indexed 30 Images on Page 1.\n",
            "\n",
            "===============================================\n",
            "\n",
            "[%] Downloading Image #1 from http://1.bp.blogspot.com/-boamuUVHHkw/Tmnia1bGzDI/AAAAAAAABlI/QRvzgW4jS6U/s1600/bengal_tigerk.jpg\n",
            "[%] File Downloaded !\n",
            "\n",
            "[%] Downloading Image #2 from https://i.pinimg.com/originals/6a/3f/6d/6a3f6d60bf4cb77d3de59ae5d6ea4a8a.jpg\n",
            "[%] File Downloaded !\n",
            "\n",
            "[%] Downloading Image #3 from https://i.pinimg.com/originals/a7/56/50/a756508e4b448adbf682e438a39d1f70.jpg\n",
            "[%] File Downloaded !\n",
            "\n",
            "[%] Downloading Image #4 from https://i.ytimg.com/vi/OQWHFmgH4pI/maxresdefault.jpg\n",
            "[%] File Downloaded !\n",
            "\n",
            "[%] Downloading Image #5 from http://4.bp.blogspot.com/-_WsoGf14tSY/UCX6wNVcQ-I/AAAAAAAABWY/5wEqxXVOLXg/s1600/Sumatran-Tiger.jpg\n",
            "[%] File Downloaded !\n",
            "\n",
            "[%] Downloading Image #6 from http://3.bp.blogspot.com/-wUvM96A5XgA/UDC-TCMWP2I/AAAAAAAABwA/fx4MrqAQVL0/w1200-h630-p-k-no-nu/South-China-Tiger.JPG\n",
            "[%] File Downloaded !\n",
            "\n",
            "[%] Downloading Image #7 from https://3.bp.blogspot.com/-mcgotL3ybfA/Tmnibi1hO4I/AAAAAAAABlo/_LLkUuuitbE/s1600/Bengal_Tiger_Miami_MetroZoo.jpg\n",
            "[%] File Downloaded !\n",
            "\n",
            "[%] Downloading Image #8 from https://3.bp.blogspot.com/_W90V87w3sr8/TMbyiUdtilI/AAAAAAAAAEI/baQO1CTsACc/s1600/bengal1.jpg\n",
            "[%] File Downloaded !\n",
            "\n",
            "[%] Downloading Image #9 from https://media.npr.org/assets/news/2010/09/10/Tiger-4e63dcd32bdf399816d6102bb1b490e5949b6edb-s1100.jpg\n",
            "[%] File Downloaded !\n",
            "\n",
            "[%] Downloading Image #10 from https://2.bp.blogspot.com/-qEvaoUwrPWA/UDC-OX-F6EI/AAAAAAAABvo/WHOFWKMadeI/s1600/South-China-Tiger-1.jpg\n",
            "[%] File Downloaded !\n",
            "\n",
            "[%] Downloading Image #11 from https://kiss951.com/wp-content/uploads/sites/48/2020/03/close-up-photography-of-tiger-792381-1024x794.jpg\n",
            "[%] File Downloaded !\n",
            "\n",
            "[%] Downloading Image #12 from http://s24990.pcdn.co/wp-content/uploads/2016/04/WWF.jpg\n",
            "[%] File Downloaded !\n",
            "\n",
            "[%] Downloading Image #13 from http://s24990.pcdn.co/wp-content/uploads/2017/03/siberian-tiger-1209680_960_720.jpg\n",
            "[%] File Downloaded !\n",
            "\n",
            "[%] Downloading Image #14 from https://media.timeout.com/images/105693873/630/472/image.jpg\n",
            "[%] File Downloaded !\n",
            "\n",
            "[%] Downloading Image #15 from https://www.funny-games.biz/images/pictures/1829-friendly-tiger.jpg\n",
            "[%] File Downloaded !\n",
            "\n",
            "[%] Downloading Image #16 from https://i.natgeofe.com/n/76b1de5f-fe8d-4ca9-a998-e39d97a814e7/ngc-4zXmklsbE56_FtzOFx_k6H2s0N6YB1le.jpg?w=1200\n",
            "[%] File Downloaded !\n",
            "\n",
            "[%] Downloading Image #17 from https://photos.prnewswire.com/prnfull/20160725/392513?max=950\n",
            "[%] File Downloaded !\n",
            "\n",
            "[%] Downloading Image #18 from https://4.bp.blogspot.com/-swTSy3-PsUI/UDC-RGbxzkI/AAAAAAAABv4/fiGjk7BC0RQ/s1600/South-China-Tiger-3.jpg\n",
            "[%] File Downloaded !\n",
            "\n",
            "[%] Downloading Image #19 from https://www.earthtouchnews.com/media/838233/screen-shot-2015-01-21-at-32120-pm.png\n",
            "[%] File Downloaded !\n",
            "\n",
            "[%] Downloading Image #20 from https://1.bp.blogspot.com/-SVkMWeZhRa0/UDoJCvxSwgI/AAAAAAAAB6I/ClTxG0tgOG4/s1600/Siberian-Tiger.jpg\n",
            "[%] File Downloaded !\n",
            "\n",
            "[%] Downloading Image #21 from https://img.particlenews.com/img/id/3wfy1C_0WwzMjMz00?type=thumbnail_1024x576\n",
            "[%] File Downloaded !\n",
            "\n",
            "[%] Downloading Image #22 from https://img.etimg.com/thumb/msid-77237431,width-1070,height-580,overlay-etpanache/photo.jpg\n",
            "[%] File Downloaded !\n",
            "\n",
            "[%] Downloading Image #23 from https://www.outsideonline.com/sites/default/files/styles/img_600x600/public/migrated-images_parent/migrated-images_32/WCMDEV_150960_the-amur-tiger.jpg?itok=1ek9gJw8\n",
            "[!] Issue getting: https://www.outsideonline.com/sites/default/files/styles/img_600x600/public/migrated-images_parent/migrated-images_32/WCMDEV_150960_the-amur-tiger.jpg?itok=1ek9gJw8\n",
            "[!] Error:: HTTP Error 404: Not Found\n",
            "[%] Downloading Image #23 from https://1.bp.blogspot.com/-6ke3HyEZj_Y/Tf7Pf-87AFI/AAAAAAAAAMY/fWJaPHbTQ9o/s400/Sumatran+Tiger+Facts3.jpg\n",
            "[%] File Downloaded !\n",
            "\n",
            "[%] Downloading Image #24 from https://dkt6rvnu67rqj.cloudfront.net/cdn/ff/k-AMwQpC7OIkzTqw2D3DCqtFaVCIUxeKwM8bSA139t8/1578999584/public/styles/600x400/public/media/int_files/tiger_chained_at_tourist_attraction_hub_page_one_hero.jpg?h=113d3908&amp;itok=OXiltSq-\n",
            "[%] File Downloaded !\n",
            "\n",
            "[%] Downloading Image #25 from https://i.ytimg.com/vi/24lHKrK0cCI/maxresdefault.jpg\n",
            "[%] File Downloaded !\n",
            "\n",
            "[%] Downloading Image #26 from https://3.bp.blogspot.com/-wJ0Qo4TNICY/Tf7NbxJ2-FI/AAAAAAAAAMQ/U70oXUBl1vQ/s1600/Sumatran+Tiger+facts2.jpg\n",
            "[%] File Downloaded !\n",
            "\n",
            "[%] Downloading Image #27 from https://i.pinimg.com/736x/f5/22/89/f52289035eec72f043fddf3fb59b54a2.jpg\n",
            "[%] File Downloaded !\n",
            "\n",
            "[%] Downloading Image #28 from https://s24990.pcdn.co/wp-content/uploads/2016/08/Baby-Tiger.jpg\n",
            "[%] File Downloaded !\n",
            "\n",
            "[%] Downloading Image #29 from https://4.bp.blogspot.com/-YJRhFbIlVuQ/Tmnia4llcpI/AAAAAAAABlQ/wixeA_GvELw/s1600/bengalTIGER_WALK.jpg\n",
            "[%] File Downloaded !\n",
            "\n",
            "\n",
            "\n",
            "[!!]Indexing page: 2\n",
            "\n",
            "[%] Indexed 35 Images on Page 2.\n",
            "\n",
            "===============================================\n",
            "\n",
            "[%] Downloading Image #30 from http://1.bp.blogspot.com/-boamuUVHHkw/Tmnia1bGzDI/AAAAAAAABlI/QRvzgW4jS6U/s1600/bengal_tigerk.jpg\n",
            "[%] File Downloaded !\n",
            "\n",
            "\n",
            "\n",
            "[%] Done. Downloaded 30 images.\n",
            "===============================================\n",
            "\n",
            "Please show your support here\n",
            "https://www.buymeacoffee.com/gurugaurav\n",
            "\n",
            "===============================================\n",
            "\n"
          ]
        }
      ],
      "source": [
        "from bing_image_downloader import downloader\n",
        "downloader.download(\"tiger\",limit=30,output_dir=\"images\", adult_filter_off=True)"
      ]
    },
    {
      "cell_type": "code",
      "execution_count": null,
      "metadata": {
        "colab": {
          "base_uri": "https://localhost:8080/"
        },
        "id": "fHMPf4Tsgztw",
        "outputId": "cc043b2f-23e7-4eb5-e009-a64870098228"
      },
      "outputs": [
        {
          "name": "stdout",
          "output_type": "stream",
          "text": [
            "[%] Downloading Images to /content/images/lion\n",
            "\n",
            "\n",
            "[!!]Indexing page: 1\n",
            "\n",
            "[%] Indexed 30 Images on Page 1.\n",
            "\n",
            "===============================================\n",
            "\n",
            "[%] Downloading Image #1 from http://1.bp.blogspot.com/-WeQqykyLQJE/UOFwCsUW4JI/AAAAAAAAEmY/aPSDjWS111E/s1600/African-Lion.jpg\n",
            "[%] File Downloaded !\n",
            "\n",
            "[%] Downloading Image #2 from http://s24990.pcdn.co/wp-content/uploads/2015/12/Lion_1.jpg\n",
            "[%] File Downloaded !\n",
            "\n",
            "[%] Downloading Image #3 from https://i.pinimg.com/originals/d5/6b/3c/d56b3cab4d23fb0c7a8a7d250f904cd7.jpg\n",
            "[%] File Downloaded !\n",
            "\n",
            "[%] Downloading Image #4 from http://3.bp.blogspot.com/-iBgL6fKsqo4/UOFv-avUKXI/AAAAAAAAEmQ/rMVrJP3-fnA/w1200-h630-p-k-no-nu/African-Lion-2.jpg\n",
            "[%] File Downloaded !\n",
            "\n",
            "[%] Downloading Image #5 from https://i.pinimg.com/originals/65/5c/58/655c587acf96fc767a4bf81859591309.jpg\n",
            "[%] File Downloaded !\n",
            "\n",
            "[%] Downloading Image #6 from https://i.pinimg.com/originals/f7/ba/92/f7ba92faab91bf6c73c71998d85e07eb.jpg\n",
            "[%] File Downloaded !\n",
            "\n",
            "[%] Downloading Image #7 from https://destinycollegeonline.com/wp-content/uploads/2015/01/Fotolia_58838571_Subscription_Monthly_M-1038x576.jpg\n",
            "[%] File Downloaded !\n",
            "\n",
            "[%] Downloading Image #8 from https://i1.treknature.com/photos/11474/dsc_0774b.jpg\n",
            "[%] File Downloaded !\n",
            "\n",
            "[%] Downloading Image #9 from https://i.pinimg.com/736x/ae/67/66/ae67661bfdc55bece8ffb29efdf4d469--lev-august-.jpg\n",
            "[%] File Downloaded !\n",
            "\n",
            "[%] Downloading Image #10 from https://i.pinimg.com/originals/2c/40/7c/2c407ca75acaf99463bf1dcf80f984bf.jpg\n",
            "[%] File Downloaded !\n",
            "\n",
            "[%] Downloading Image #11 from https://i.pinimg.com/736x/03/f4/56/03f456b4aa384c1192a6fc61439b14c5.jpg\n",
            "[%] File Downloaded !\n",
            "\n",
            "[%] Downloading Image #12 from http://4.bp.blogspot.com/-gOnti4bz5C0/UOFvsV0Pj7I/AAAAAAAAEmA/k6DkG_UcwYs/s320/African-Lion-.jpg\n",
            "[%] File Downloaded !\n",
            "\n",
            "[%] Downloading Image #13 from http://3.bp.blogspot.com/-nYCVVVtbZGQ/UNP_Azg7IrI/AAAAAAAAAQs/Go05GgzJ5aw/s1600/Male+African+Lion.jpg\n",
            "[%] File Downloaded !\n",
            "\n",
            "[%] Downloading Image #14 from https://i.pinimg.com/originals/18/1a/5c/181a5c329f73a87a8e99fa34ee26bb86.jpg\n",
            "[%] File Downloaded !\n",
            "\n",
            "[%] Downloading Image #15 from https://www.nyrealestatelawblog.com/images/blog/lion_kenya_copyrighted_2012_all_rights_reserved_photo_call_lucas_ferrara_nyreblog_com_.jpg\n",
            "[%] File Downloaded !\n",
            "\n",
            "[%] Downloading Image #16 from http://3.bp.blogspot.com/-a8xW6J4LB2M/TghXq9k3DCI/AAAAAAAAAMs/LnI11Rcc70Q/s1600/African+Lion3.jpg\n",
            "[%] File Downloaded !\n",
            "\n",
            "[%] Downloading Image #17 from http://www.heresthejoy.com/wp-content/uploads/2018/03/lion-roaring-1024x962.jpg\n",
            "[%] File Downloaded !\n",
            "\n",
            "[%] Downloading Image #18 from https://www.africa-wildlife-detective.com/images/cub-white-lion.jpg.pagespeed.ce.ztet_D98Gd.jpg\n",
            "[%] File Downloaded !\n",
            "\n",
            "[%] Downloading Image #19 from https://i.pinimg.com/originals/28/09/49/2809492928f4f3506ae3abb4c8a891d1.jpg\n",
            "[%] File Downloaded !\n",
            "\n",
            "[%] Downloading Image #20 from https://i.pinimg.com/originals/a8/d1/e2/a8d1e27ee07ef1c18af321406098d53f.jpg\n",
            "[%] File Downloaded !\n",
            "\n",
            "[%] Downloading Image #21 from https://cdn.quotesgram.com/img/6/72/201548158-6a00d8341bf67c53ef01538eb6620a970b-800wi.jpg\n",
            "[%] File Downloaded !\n",
            "\n",
            "[%] Downloading Image #22 from http://s3.amazonaws.com/Photo_of_the_Day/system/uploads/photo/image/3294/sized_IMG_0374.jpg\n",
            "[%] File Downloaded !\n",
            "\n",
            "[%] Downloading Image #23 from https://yt3.ggpht.com/a/AATXAJyxXfVkVTb7diuwlv77z6d3FQ7V0Rgh3D744w=s900-c-k-c0xffffffff-no-rj-mo\n",
            "[%] File Downloaded !\n",
            "\n",
            "[%] Downloading Image #24 from https://rangerdiaries.com/wp-content/uploads/images/diaries/kTP24eA3-1024x686.jpg\n",
            "[%] File Downloaded !\n",
            "\n",
            "[%] Downloading Image #25 from http://compassioncircle.com/wp-content/uploads/2011/07/Lion_Lamb2.jpg\n",
            "[%] File Downloaded !\n",
            "\n",
            "[%] Downloading Image #26 from https://cache.desktopnexus.com/thumbseg/665/665358-bigthumbnail.jpg\n",
            "[%] File Downloaded !\n",
            "\n",
            "[%] Downloading Image #27 from https://www.whats-your-sign.com/wp-content/uploads/2018/03/Lion3.jpg\n",
            "[%] File Downloaded !\n",
            "\n",
            "[%] Downloading Image #28 from https://i.pinimg.com/originals/1a/94/81/1a9481c11a26fd86ea2c7049e176bc7e.jpg\n",
            "[%] File Downloaded !\n",
            "\n",
            "[%] Downloading Image #29 from https://img.srgcdn.com/e/RXd0Yk0zQnJBUDZ0eDVkSEQxdW0uanBn.jpg\n",
            "[Error]Invalid image, not saving https://img.srgcdn.com/e/RXd0Yk0zQnJBUDZ0eDVkSEQxdW0uanBn.jpg\n",
            "\n",
            "[!] Issue getting: https://img.srgcdn.com/e/RXd0Yk0zQnJBUDZ0eDVkSEQxdW0uanBn.jpg\n",
            "[!] Error:: Invalid image, not saving https://img.srgcdn.com/e/RXd0Yk0zQnJBUDZ0eDVkSEQxdW0uanBn.jpg\n",
            "\n",
            "[%] Downloading Image #29 from https://i.pinimg.com/736x/34/cd/cf/34cdcf7fcc00e9251ea8ba7439c5b550--quelques-photos-lions-club.jpg\n",
            "[%] File Downloaded !\n",
            "\n",
            "\n",
            "\n",
            "[!!]Indexing page: 2\n",
            "\n",
            "[%] Indexed 35 Images on Page 2.\n",
            "\n",
            "===============================================\n",
            "\n",
            "[%] Downloading Image #30 from http://1.bp.blogspot.com/-WeQqykyLQJE/UOFwCsUW4JI/AAAAAAAAEmY/aPSDjWS111E/s1600/African-Lion.jpg\n",
            "[%] File Downloaded !\n",
            "\n",
            "\n",
            "\n",
            "[%] Done. Downloaded 30 images.\n",
            "===============================================\n",
            "\n",
            "Please show your support here\n",
            "https://www.buymeacoffee.com/gurugaurav\n",
            "\n",
            "===============================================\n",
            "\n"
          ]
        }
      ],
      "source": [
        "from bing_image_downloader import downloader\n",
        "downloader.download(\"lion\",limit=30,output_dir=\"images\", adult_filter_off=True)"
      ]
    },
    {
      "cell_type": "code",
      "execution_count": null,
      "metadata": {
        "colab": {
          "base_uri": "https://localhost:8080/"
        },
        "id": "w10X8EC-g4Uo",
        "outputId": "fe8d1a59-93ba-453a-9318-a88c60d865ba"
      },
      "outputs": [
        {
          "data": {
            "text/plain": [
              "2"
            ]
          },
          "execution_count": 10,
          "metadata": {
            "tags": []
          },
          "output_type": "execute_result"
        }
      ],
      "source": [
        "import numpy as np\n",
        "a=np.array([[1,2,3,4,5],[4,5,6,7,8]])\n",
        "a.ndim"
      ]
    },
    {
      "cell_type": "code",
      "execution_count": null,
      "metadata": {
        "colab": {
          "base_uri": "https://localhost:8080/"
        },
        "id": "mtVZe-IQg6-Q",
        "outputId": "420ed36e-0128-4789-fbfe-050d0ec81b3d"
      },
      "outputs": [
        {
          "name": "stdout",
          "output_type": "stream",
          "text": [
            "/content/images/pretty sunflower\n",
            "/content/images/cats\n",
            "/content/images/roses\n",
            "/content/images/dogs\n",
            "/content/images/lotus\n",
            "/content/images/tiger\n",
            "/content/images/lion\n"
          ]
        }
      ],
      "source": [
        "#Preprocessing\n",
        "import tensorflow as tf\n",
        "import os\n",
        "import matplotlib.pyplot as plt\n",
        "import numpy as np\n",
        "from skimage.io import imread\n",
        "from skimage.transform import resize\n",
        "\n",
        "target=[]\n",
        "images=[]\n",
        "flat_data=[]\n",
        "\n",
        "DATADIR='/content/images'\n",
        "CATEGORIES=['pretty sunflower','cats','roses','dogs','lotus','tiger','lion']\n",
        "\n",
        "for category in CATEGORIES:\n",
        "  class_num=CATEGORIES.index(category) #Label Encoding the values\n",
        "  path=os.path.join(DATADIR,category)\n",
        "  print(path)\n",
        "  for img in os.listdir(path):\n",
        "    img_array=imread(os.path.join(path,img))\n",
        "    #plt.imshow(img_array)\n",
        "    img_resized=resize(img_array,(150,150,3))\n",
        "    flat_data.append(img_resized.flatten())\n",
        "    images.append(img_resized)\n",
        "    target.append(class_num)\n",
        "flat_data=np.array(flat_data)\n",
        "target=np.array(target)\n",
        "images=np.array(images)"
      ]
    },
    {
      "cell_type": "code",
      "execution_count": null,
      "metadata": {
        "colab": {
          "base_uri": "https://localhost:8080/"
        },
        "id": "g2bXmpXQg9-I",
        "outputId": "9447f765-6d54-42fd-a756-f4b1e0368f3a"
      },
      "outputs": [
        {
          "data": {
            "text/plain": [
              "array([0, 0, 0, 0, 0, 0, 0, 0, 0, 0, 0, 0, 0, 0, 0, 0, 0, 0, 0, 0, 0, 0,\n",
              "       0, 0, 0, 0, 0, 0, 0, 0, 1, 1, 1, 1, 1, 1, 1, 1, 1, 1, 1, 1, 1, 1,\n",
              "       1, 1, 1, 1, 1, 1, 1, 1, 1, 1, 1, 1, 1, 1, 1, 1, 2, 2, 2, 2, 2, 2,\n",
              "       2, 2, 2, 2, 2, 2, 2, 2, 2, 2, 2, 2, 2, 2, 3, 3, 3, 3, 3, 3, 3, 3,\n",
              "       3, 3, 3, 3, 3, 3, 3, 3, 3, 3, 3, 3, 3, 3, 3, 3, 3, 3, 3, 3, 3, 3,\n",
              "       4, 4, 4, 4, 4, 4, 4, 4, 4, 4, 4, 4, 4, 4, 4, 4, 4, 4, 4, 4, 4, 4,\n",
              "       4, 4, 4, 4, 4, 4, 4, 4, 5, 5, 5, 5, 5, 5, 5, 5, 5, 5, 5, 5, 5, 5,\n",
              "       5, 5, 5, 5, 5, 5, 5, 5, 5, 5, 5, 5, 5, 5, 5, 5, 6, 6, 6, 6, 6, 6,\n",
              "       6, 6, 6, 6, 6, 6, 6, 6, 6, 6, 6, 6, 6, 6, 6, 6, 6, 6, 6, 6, 6, 6,\n",
              "       6, 6])"
            ]
          },
          "execution_count": 12,
          "metadata": {
            "tags": []
          },
          "output_type": "execute_result"
        }
      ],
      "source": [
        "target"
      ]
    },
    {
      "cell_type": "code",
      "execution_count": null,
      "metadata": {
        "colab": {
          "base_uri": "https://localhost:8080/"
        },
        "id": "Cxwanq9oi9cR",
        "outputId": "f9317bfa-b656-4f84-abaa-92cbeaafbd7e"
      },
      "outputs": [
        {
          "data": {
            "text/plain": [
              "array([[0.65934641, 0.73061438, 0.75022222, ..., 0.52604253, 0.58943791,\n",
              "        0.32277124],\n",
              "       [0.00784314, 0.07843137, 0.21960784, ..., 0.04084967, 0.0627451 ,\n",
              "        0.00784314],\n",
              "       [0.51371242, 0.67860349, 0.46797386, ..., 0.86666667, 0.86666667,\n",
              "        0.90980392],\n",
              "       ...,\n",
              "       [0.07843137, 0.0627451 , 0.05882353, ..., 0.07843137, 0.0627451 ,\n",
              "        0.05882353],\n",
              "       [0.57652288, 0.50857516, 0.39963137, ..., 0.57727843, 0.52855163,\n",
              "        0.49717908],\n",
              "       [0.47385621, 0.39542484, 0.2503268 , ..., 0.41372549, 0.44248366,\n",
              "        0.31013072]])"
            ]
          },
          "execution_count": 13,
          "metadata": {
            "tags": []
          },
          "output_type": "execute_result"
        }
      ],
      "source": [
        "flat_data"
      ]
    },
    {
      "cell_type": "code",
      "execution_count": null,
      "metadata": {
        "colab": {
          "base_uri": "https://localhost:8080/"
        },
        "id": "eHSZ4p7gi_1v",
        "outputId": "ff51e244-6de7-4cbe-fc93-2e17b3e1f681"
      },
      "outputs": [
        {
          "data": {
            "text/plain": [
              "array([0, 0, 0, 0, 0, 0, 0, 0, 0, 0, 0, 0, 0, 0, 0, 0, 0, 0, 0, 0, 0, 0,\n",
              "       0, 0, 0, 0, 0, 0, 0, 0, 1, 1, 1, 1, 1, 1, 1, 1, 1, 1, 1, 1, 1, 1,\n",
              "       1, 1, 1, 1, 1, 1, 1, 1, 1, 1, 1, 1, 1, 1, 1, 1, 2, 2, 2, 2, 2, 2,\n",
              "       2, 2, 2, 2, 2, 2, 2, 2, 2, 2, 2, 2, 2, 2, 3, 3, 3, 3, 3, 3, 3, 3,\n",
              "       3, 3, 3, 3, 3, 3, 3, 3, 3, 3, 3, 3, 3, 3, 3, 3, 3, 3, 3, 3, 3, 3,\n",
              "       4, 4, 4, 4, 4, 4, 4, 4, 4, 4, 4, 4, 4, 4, 4, 4, 4, 4, 4, 4, 4, 4,\n",
              "       4, 4, 4, 4, 4, 4, 4, 4, 5, 5, 5, 5, 5, 5, 5, 5, 5, 5, 5, 5, 5, 5,\n",
              "       5, 5, 5, 5, 5, 5, 5, 5, 5, 5, 5, 5, 5, 5, 5, 5, 6, 6, 6, 6, 6, 6,\n",
              "       6, 6, 6, 6, 6, 6, 6, 6, 6, 6, 6, 6, 6, 6, 6, 6, 6, 6, 6, 6, 6, 6,\n",
              "       6, 6])"
            ]
          },
          "execution_count": 14,
          "metadata": {
            "tags": []
          },
          "output_type": "execute_result"
        }
      ],
      "source": [
        "target"
      ]
    },
    {
      "cell_type": "code",
      "execution_count": null,
      "metadata": {
        "colab": {
          "base_uri": "https://localhost:8080/",
          "height": 282
        },
        "id": "lMjJIKe0jEGH",
        "outputId": "243dda5a-52fa-4ffd-8322-c90418af8032"
      },
      "outputs": [
        {
          "data": {
            "text/plain": [
              "<BarContainer object of 7 artists>"
            ]
          },
          "execution_count": 15,
          "metadata": {
            "tags": []
          },
          "output_type": "execute_result"
        },
        {
          "data": {
            "image/png": "[encoded data removed]",
            "text/plain": [
              "<Figure size 432x288 with 1 Axes>"
            ]
          },
          "metadata": {
            "tags": []
          },
          "output_type": "display_data"
        }
      ],
      "source": [
        "unique,count=np.unique(target,return_counts=True)\n",
        "plt.bar(CATEGORIES,count)"
      ]
    },
    {
      "cell_type": "code",
      "execution_count": null,
      "metadata": {
        "id": "VKibHLswjHtv"
      },
      "outputs": [],
      "source": [
        "#Split data in Training and Testing sets"
      ]
    },
    {
      "cell_type": "code",
      "execution_count": null,
      "metadata": {
        "id": "ncSbXY60jIlO"
      },
      "outputs": [],
      "source": [
        "import pandas as pd\n",
        "from sklearn.model_selection import train_test_split\n",
        "\n",
        "x_train,x_test,y_train,y_test=train_test_split(flat_data,target,test_size=.3)\n",
        "x_train,x_val,y_train,y_val=train_test_split(x_train,y_train,test_size=.3)"
      ]
    },
    {
      "cell_type": "code",
      "execution_count": null,
      "metadata": {
        "colab": {
          "base_uri": "https://localhost:8080/"
        },
        "id": "HPHw1IPtjMwg",
        "outputId": "e03557ca-e062-44b5-b31b-ce7977ce3849"
      },
      "outputs": [
        {
          "name": "stdout",
          "output_type": "stream",
          "text": [
            "((98, 67500), (98,))\n",
            "((42, 67500), (42,))\n",
            "((60, 67500), (60,))\n"
          ]
        }
      ],
      "source": [
        "#Dimension of dataset\n",
        "\n",
        "print((x_train.shape,y_train.shape))\n",
        "print((x_val.shape,y_val.shape))\n",
        "print((x_test.shape,y_test.shape))"
      ]
    },
    {
      "cell_type": "code",
      "execution_count": null,
      "metadata": {
        "id": "Z8hiuoXnjPLg"
      },
      "outputs": [],
      "source": [
        "from tensorflow.keras.utils import to_categorical\n",
        "\n",
        "#One Hot Encoding\n",
        "y_train=to_categorical(y_train)\n",
        "y_val=to_categorical(y_val)\n",
        "y_test=to_categorical(y_test)"
      ]
    },
    {
      "cell_type": "code",
      "execution_count": null,
      "metadata": {
        "colab": {
          "base_uri": "https://localhost:8080/"
        },
        "id": "AbHGaZX9jRcP",
        "outputId": "20cdfd1f-14c9-4937-f3e1-f23442a035e6"
      },
      "outputs": [
        {
          "name": "stdout",
          "output_type": "stream",
          "text": [
            "((98, 67500), (98, 7))\n",
            "((42, 67500), (42, 7))\n",
            "((60, 67500), (60, 7))\n"
          ]
        }
      ],
      "source": [
        "#verifying the dimension after one hot encoding\n",
        "\n",
        "print((x_train.shape,y_train.shape))\n",
        "print((x_val.shape,y_val.shape))\n",
        "print((x_test.shape,y_test.shape))"
      ]
    },
    {
      "cell_type": "code",
      "execution_count": null,
      "metadata": {
        "id": "lLlfVr08jUN4"
      },
      "outputs": [],
      "source": [
        "import tensorflow as tf\n",
        "from tensorflow.keras.preprocessing.image import ImageDataGenerator\n",
        "from tensorflow.keras import Sequential\n",
        "from tensorflow.keras.applications import VGG19 #For Transfer Learning\n",
        "from tensorflow.keras.optimizers import SGD,Adam\n",
        "from tensorflow.keras.callbacks import ReduceLROnPlateau\n",
        "from tensorflow.keras.layers import Flatten,Dense,BatchNormalization,Activation,Dropout\n",
        "\n",
        "#Image Data Augmentation\n",
        "\n",
        "train_generator=ImageDataGenerator(rotation_range=2,horizontal_flip=True,width_shift_range=0.2,\n",
        "    height_shift_range=0.2,\n",
        "    validation_split=0.2, zoom_range=.1)\n",
        "val_generator = ImageDataGenerator(rotation_range=2, horizontal_flip=True,width_shift_range=0.2,\n",
        "    height_shift_range=0.2, zoom_range=.1)\n",
        "test_generator=ImageDataGenerator(rotation_range=2,horizontal_flip=True,width_shift_range=0.2,\n",
        "    height_shift_range=0.2,\n",
        "    validation_split=0.2, zoom_range=.1)\n",
        "\n",
        "#Fitting the augmentation defined above to the data\n",
        "\n",
        "train_generator.fit(x_train.reshape(98,150,150,3))\n",
        "val_generator.fit(x_val.reshape(42,150,150,3))\n",
        "test_generator.fit(x_test.reshape(60,150,150,3))"
      ]
    },
    {
      "cell_type": "code",
      "execution_count": null,
      "metadata": {
        "id": "btL5WgcDjWt4"
      },
      "outputs": [],
      "source": [
        "#Learning Rate Annealer\n",
        "\n",
        "lrr=tf.keras.callbacks.ReduceLROnPlateau(monitor='val_loss', factor=.01,paitence=10,min_lr=1e-5)"
      ]
    },
    {
      "cell_type": "code",
      "execution_count": null,
      "metadata": {
        "colab": {
          "base_uri": "https://localhost:8080/"
        },
        "id": "-mckRqI1jaIo",
        "outputId": "a879b1c5-e721-434c-9fae-70823a24e984"
      },
      "outputs": [
        {
          "data": {
            "text/plain": [
              "(98, 7)"
            ]
          },
          "execution_count": 23,
          "metadata": {
            "tags": []
          },
          "output_type": "execute_result"
        }
      ],
      "source": [
        "y_train.shape"
      ]
    },
    {
      "cell_type": "code",
      "execution_count": null,
      "metadata": {
        "colab": {
          "base_uri": "https://localhost:8080/"
        },
        "id": "lLipglGQjcRP",
        "outputId": "0abd4a0e-46a4-4ffb-b915-b41480ca1de9"
      },
      "outputs": [
        {
          "name": "stdout",
          "output_type": "stream",
          "text": [
            "Downloading data from https://storage.googleapis.com/tensorflow/keras-applications/vgg19/vgg19_weights_tf_dim_ordering_tf_kernels_notop.h5\n",
            "80142336/80134624 [==============================] - 1s 0us/step\n"
          ]
        }
      ],
      "source": [
        "#Defining the VGG Convolutional Neural Net\n",
        "\n",
        "base_model = VGG19(include_top = False, weights = 'imagenet', input_shape = (150,150,3), classes = y_train.shape[1])"
      ]
    },
    {
      "cell_type": "code",
      "execution_count": null,
      "metadata": {
        "id": "ynEtyVknjfVI"
      },
      "outputs": [],
      "source": [
        "#Adding the final layers to the above base models where the actual classification is done in the dense layers\n",
        "\n",
        "model=Sequential()\n",
        "model.add(base_model)\n",
        "model.add(Flatten())"
      ]
    },
    {
      "cell_type": "code",
      "execution_count": null,
      "metadata": {
        "colab": {
          "base_uri": "https://localhost:8080/"
        },
        "id": "32WeY6-sjh4Z",
        "outputId": "04b571a8-eb21-410f-c19d-b6815a4fec93"
      },
      "outputs": [
        {
          "name": "stdout",
          "output_type": "stream",
          "text": [
            "Model: \"sequential\"\n",
            "_________________________________________________________________\n",
            "Layer (type)                 Output Shape              Param #   \n",
            "=================================================================\n",
            "vgg19 (Functional)           (None, 4, 4, 512)         20024384  \n",
            "_________________________________________________________________\n",
            "flatten (Flatten)            (None, 8192)              0         \n",
            "=================================================================\n",
            "Total params: 20,024,384\n",
            "Trainable params: 20,024,384\n",
            "Non-trainable params: 0\n",
            "_________________________________________________________________\n"
          ]
        }
      ],
      "source": [
        "model.summary()"
      ]
    },
    {
      "cell_type": "code",
      "execution_count": null,
      "metadata": {
        "colab": {
          "base_uri": "https://localhost:8080/"
        },
        "id": "4czt-0xTjkUP",
        "outputId": "285ed025-d29a-4e9e-a7ad-e1704740c3f3"
      },
      "outputs": [
        {
          "name": "stdout",
          "output_type": "stream",
          "text": [
            "Model: \"sequential\"\n",
            "_________________________________________________________________\n",
            "Layer (type)                 Output Shape              Param #   \n",
            "=================================================================\n",
            "vgg19 (Functional)           (None, 4, 4, 512)         20024384  \n",
            "_________________________________________________________________\n",
            "flatten (Flatten)            (None, 8192)              0         \n",
            "_________________________________________________________________\n",
            "dense (Dense)                (None, 1024)              8389632   \n",
            "_________________________________________________________________\n",
            "dense_1 (Dense)              (None, 512)               524800    \n",
            "_________________________________________________________________\n",
            "dense_2 (Dense)              (None, 256)               131328    \n",
            "_________________________________________________________________\n",
            "dense_3 (Dense)              (None, 128)               32896     \n",
            "_________________________________________________________________\n",
            "dense_4 (Dense)              (None, 7)                 903       \n",
            "=================================================================\n",
            "Total params: 29,103,943\n",
            "Trainable params: 29,103,943\n",
            "Non-trainable params: 0\n",
            "_________________________________________________________________\n"
          ]
        }
      ],
      "source": [
        "#Adding the Dense layers along with activation and batch normalisation\n",
        "\n",
        "model.add(Dense(1024,activation=(\"relu\"),input_dim=512))\n",
        "model.add(Dense(512,activation=('relu')))\n",
        "model.add(Dense(256,activation=('relu')))\n",
        "\n",
        "model.add(Dense(128,activation=('relu')))\n",
        "#model.add(Dense(10,activation=('softmax')))\n",
        "model.add(Dense(7,activation=('softmax')))\n",
        "\n",
        "#Checking the final model summary\n",
        "model.summary()"
      ]
    },
    {
      "cell_type": "code",
      "execution_count": null,
      "metadata": {
        "colab": {
          "base_uri": "https://localhost:8080/"
        },
        "id": "V3n7prfUjo3H",
        "outputId": "479886a1-eeb7-41da-ea05-637c5ee38738"
      },
      "outputs": [
        {
          "name": "stdout",
          "output_type": "stream",
          "text": [
            "Model: \"sequential\"\n",
            "_________________________________________________________________\n",
            "Layer (type)                 Output Shape              Param #   \n",
            "=================================================================\n",
            "vgg19 (Functional)           (None, 4, 4, 512)         20024384  \n",
            "_________________________________________________________________\n",
            "flatten (Flatten)            (None, 8192)              0         \n",
            "_________________________________________________________________\n",
            "dense (Dense)                (None, 1024)              8389632   \n",
            "_________________________________________________________________\n",
            "dense_1 (Dense)              (None, 512)               524800    \n",
            "_________________________________________________________________\n",
            "dense_2 (Dense)              (None, 256)               131328    \n",
            "_________________________________________________________________\n",
            "dense_3 (Dense)              (None, 128)               32896     \n",
            "_________________________________________________________________\n",
            "dense_4 (Dense)              (None, 7)                 903       \n",
            "=================================================================\n",
            "Total params: 29,103,943\n",
            "Trainable params: 29,103,943\n",
            "Non-trainable params: 0\n",
            "_________________________________________________________________\n"
          ]
        },
        {
          "name": "stderr",
          "output_type": "stream",
          "text": [
            "/usr/local/lib/python3.7/dist-packages/tensorflow/python/keras/optimizer_v2/optimizer_v2.py:375: UserWarning: The `lr` argument is deprecated, use `learning_rate` instead.\n",
            "  \"The `lr` argument is deprecated, use `learning_rate` instead.\")\n"
          ]
        }
      ],
      "source": [
        "#initializing the hyperparameters\n",
        "\n",
        "batch_size=10\n",
        "epochs=10\n",
        "learn_rate=.001\n",
        "sgd=SGD(lr=learn_rate,momentum=.9,nesterov=False)\n",
        "adam=Adam(lr=learn_rate, beta_1=0.9, beta_2=0.999, epsilon=None, decay=0.0, amsgrad=False)\n",
        "model.compile(optimizer=sgd,loss='categorical_crossentropy',metrics=['accuracy'])\n",
        "model.summary()"
      ]
    },
    {
      "cell_type": "code",
      "execution_count": null,
      "metadata": {
        "colab": {
          "background_save": true,
          "base_uri": "https://localhost:8080/"
        },
        "id": "reGxPmCijuLh",
        "outputId": "99cc7fdd-53a9-48ed-a6a4-aaadff31cb74"
      },
      "outputs": [
        {
          "name": "stderr",
          "output_type": "stream",
          "text": [
            "/usr/local/lib/python3.7/dist-packages/tensorflow/python/keras/engine/training.py:1940: UserWarning: `Model.fit_generator` is deprecated and will be removed in a future version. Please use `Model.fit`, which supports generators.\n",
            "  warnings.warn('`Model.fit_generator` is deprecated and '\n"
          ]
        },
        {
          "name": "stdout",
          "output_type": "stream",
          "text": [
            "Epoch 1/10\n",
            "9/9 [==============================] - ETA: 0s - loss: 1.9468 - accuracy: 0.1705WARNING:tensorflow:Your input ran out of data; interrupting training. Make sure that your dataset or generator can generate at least `steps_per_epoch * epochs` batches (in this case, 250 batches). You may need to use the repeat() function when building your dataset.\n",
            "9/9 [==============================] - 104s 12s/step - loss: 1.9468 - accuracy: 0.1705 - val_loss: 1.9320 - val_accuracy: 0.1429\n",
            "Epoch 2/10\n",
            "9/9 [==============================] - 81s 9s/step - loss: 1.7489 - accuracy: 0.3409\n",
            "WARNING:tensorflow:Learning rate reduction is conditioned on metric `val_loss` which is not available. Available metrics are: loss,accuracy,lr\n",
            "Epoch 3/10\n",
            "9/9 [==============================] - 82s 9s/step - loss: 1.3326 - accuracy: 0.5909\n",
            "WARNING:tensorflow:Learning rate reduction is conditioned on metric `val_loss` which is not available. Available metrics are: loss,accuracy,lr\n",
            "Epoch 4/10\n",
            "9/9 [==============================] - 82s 9s/step - loss: 1.3623 - accuracy: 0.4659\n",
            "WARNING:tensorflow:Learning rate reduction is conditioned on metric `val_loss` which is not available. Available metrics are: loss,accuracy,lr\n",
            "Epoch 5/10\n",
            "9/9 [==============================] - 81s 9s/step - loss: 1.1265 - accuracy: 0.5114\n",
            "WARNING:tensorflow:Learning rate reduction is conditioned on metric `val_loss` which is not available. Available metrics are: loss,accuracy,lr\n",
            "Epoch 6/10\n",
            "9/9 [==============================] - 81s 9s/step - loss: 1.1742 - accuracy: 0.5568\n",
            "WARNING:tensorflow:Learning rate reduction is conditioned on metric `val_loss` which is not available. Available metrics are: loss,accuracy,lr\n",
            "Epoch 7/10\n",
            "9/9 [==============================] - 81s 9s/step - loss: 0.9140 - accuracy: 0.6591\n",
            "WARNING:tensorflow:Learning rate reduction is conditioned on metric `val_loss` which is not available. Available metrics are: loss,accuracy,lr\n",
            "Epoch 8/10\n",
            "9/9 [==============================] - 81s 9s/step - loss: 1.0022 - accuracy: 0.6705\n",
            "WARNING:tensorflow:Learning rate reduction is conditioned on metric `val_loss` which is not available. Available metrics are: loss,accuracy,lr\n",
            "Epoch 9/10\n",
            "9/9 [==============================] - 81s 9s/step - loss: 0.9116 - accuracy: 0.6705\n",
            "WARNING:tensorflow:Learning rate reduction is conditioned on metric `val_loss` which is not available. Available metrics are: loss,accuracy,lr\n",
            "Epoch 10/10\n",
            "9/9 [==============================] - 81s 9s/step - loss: 0.6380 - accuracy: 0.7727\n",
            "WARNING:tensorflow:Learning rate reduction is conditioned on metric `val_loss` which is not available. Available metrics are: loss,accuracy,lr\n"
          ]
        },
        {
          "data": {
            "text/plain": [
              "<tensorflow.python.keras.callbacks.History at 0x7fa4b45ab310>"
            ]
          },
          "execution_count": null,
          "metadata": {},
          "output_type": "execute_result"
        }
      ],
      "source": [
        "#Training the model\n",
        "model.fit_generator(train_generator.flow(x_train.reshape(98,150,150,3), y_train, batch_size= batch_size),epochs = epochs, \n",
        "                    steps_per_epoch = x_train.shape[0]//batch_size,\n",
        "                    validation_data = val_generator.flow(x_val.reshape(42,150,150,3), y_val, batch_size = batch_size), \n",
        "                    validation_steps = 250,callbacks=[lrr], verbose = 1)"
      ]
    },
    {
      "cell_type": "code",
      "execution_count": null,
      "metadata": {
        "id": "e_hJ03g1jwXQ"
      },
      "outputs": [],
      "source": [
        "from google.colab import drive\n",
        "drive.mount('/content/drive')"
      ]
    },
    {
      "cell_type": "code",
      "execution_count": null,
      "metadata": {
        "id": "W6ZB8-wapI0v"
      },
      "outputs": [],
      "source": [
        "#Making prediction\n",
        "y_pred=model.predict_classes(x_test.reshape(60,150,150,3))\n",
        "y_true=np.argmax(y_test,axis=1)\n",
        "y_pred"
      ]
    },
    {
      "cell_type": "code",
      "execution_count": null,
      "metadata": {
        "id": "PSFOHWLZjy9H"
      },
      "outputs": [],
      "source": [
        "model.save('Model.hdf5')"
      ]
    },
    {
      "cell_type": "code",
      "execution_count": null,
      "metadata": {
        "id": "a4oQ2Gsjj1Sg"
      },
      "outputs": [],
      "source": [
        "#Testing a brand new Image\n",
        "flat_data=[]\n",
        "url=input(\"Enter your URL:\")\n",
        "img=imread(url)\n",
        "img_resized=resize(img,(150,150,3))\n",
        "flat_data.append(img_resized.flatten())\n",
        "flat_data=np.array(flat_data)\n",
        "\n",
        "print(img.shape)\n",
        "plt.imshow(img_resized)\n",
        "y_out=model.predict_classes(flat_data.reshape(1,150,150,3))\n",
        "np.array(y_out)\n",
        "y=CATEGORIES[y_out[0]]\n",
        "print(f'PREDICTED OUTPUT: {y}')"
      ]
    }
  ],
  "metadata": {
    "colab": {
      "name": "Training.ipynb",
      "provenance": []
    },
    "kernelspec": {
      "display_name": "Python 3",
      "name": "python3"
    },
    "language_info": {
      "name": "python"
    }
  },
  "nbformat": 4,
  "nbformat_minor": 0
}