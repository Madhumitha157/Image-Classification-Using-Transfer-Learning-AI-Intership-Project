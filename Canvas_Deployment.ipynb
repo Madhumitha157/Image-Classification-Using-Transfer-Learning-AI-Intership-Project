{
  "nbformat": 4,
  "nbformat_minor": 0,
  "metadata": {
    "colab": {
      "name": "Canvas_Deployment.ipynb",
      "provenance": [],
      "collapsed_sections": []
    },
    "kernelspec": {
      "name": "python3",
      "display_name": "Python 3"
    },
    "language_info": {
      "name": "python"
    }
  },
  "cells": [
    {
      "cell_type": "code",
      "metadata": {
        "id": "ZV78j_O3mPeY"
      },
      "source": [
        "!pip install streamlit --quiet\n",
        "!pip install pyngrok==4.1.1 --quiet\n",
        "from pyngrok import ngrok"
      ],
      "execution_count": null,
      "outputs": []
    },
    {
      "cell_type": "code",
      "metadata": {
        "colab": {
          "base_uri": "https://localhost:8080/"
        },
        "id": "DvfBeiKHmTjX",
        "outputId": "101c7ebd-9928-4670-abbe-211c5d8268eb"
      },
      "source": [
        "%%writefile app.py\n",
        "import streamlit as s\n",
        "import numpy as np\n",
        "import tensorflow as tf\n",
        "from PIL import Image\n",
        "from skimage.transform import resize\n",
        "import sklearn\n",
        "s.title(\"Multi Class Image Classifier\")\n",
        "s.text(\"Upload the image \")\n",
        "CATEGORIES=['pretty sunflower','cats','roses','dogs','lotus','tiger','lion']\n",
        "model=tf.keras.models.load_model(\"Model.hdf5\")\n",
        "img_file=s.file_uploader(\"Choose a .jpg file\",type='jpg')\n",
        "if img_file is not None:\n",
        "  i=Image.open(img_file)\n",
        "  s.image(i,caption='Uploaded Image')\n",
        "  if s.button('PREDICT'):\n",
        "    s.write(\"Result:\")\n",
        "    flat_data=[]\n",
        "    i=np.array(i)\n",
        "    img_resized=resize(i,(150,150,3))\n",
        "    flat_data.append(img_resized.flatten())\n",
        "    flat_data=np.array(flat_data)\n",
        "    y_out=model.predict_classes(flat_data.reshape(1,150,150,3))\n",
        "    np.array(y_out)\n",
        "    y=CATEGORIES[y_out[0]]\n",
        "    s.title(f'PREDICTED OUTPUT: {y}')"
      ],
      "execution_count": null,
      "outputs": [
        {
          "output_type": "stream",
          "text": [
            "Overwriting app.py\n"
          ],
          "name": "stdout"
        }
      ]
    },
    {
      "cell_type": "code",
      "metadata": {
        "colab": {
          "base_uri": "https://localhost:8080/"
        },
        "id": "rrD71Ds1mTtz",
        "outputId": "c8edfd10-4748-49cf-8bdc-27e7245a5597"
      },
      "source": [
        "!nohup streamlit run app.py &\n",
        "url=ngrok.connect(port='8501')\n",
        "print(url)"
      ],
      "execution_count": null,
      "outputs": [
        {
          "output_type": "stream",
          "text": [
            "nohup: appending output to 'nohup.out'\n",
            "http://9d2f58a095ee.ngrok.io\n"
          ],
          "name": "stdout"
        }
      ]
    }
  ]
}